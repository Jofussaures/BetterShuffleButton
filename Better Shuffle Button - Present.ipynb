{
 "cells": [
  {
   "cell_type": "markdown",
   "metadata": {},
   "source": [
    "# Import Libraries"
   ]
  },
  {
   "cell_type": "code",
   "execution_count": 1,
   "metadata": {},
   "outputs": [
    {
     "name": "stdout",
     "output_type": "stream",
     "text": [
      "Wall time: 3.81 s\n"
     ]
    }
   ],
   "source": [
    "%%time\n",
    "#Import Libraries\n",
    "import json\n",
    "import spotipy\n",
    "import spotipy.util as util\n",
    "import pandas as pd\n",
    "import numpy as np\n",
    "import time\n",
    "import random\n",
    "import csv\n",
    "from sklearn.model_selection import train_test_split\n",
    "from sklearn.cluster import KMeans\n",
    "from spotipy.oauth2 import SpotifyClientCredentials"
   ]
  },
  {
   "cell_type": "markdown",
   "metadata": {},
   "source": [
    "# Authentication"
   ]
  },
  {
   "cell_type": "code",
   "execution_count": 2,
   "metadata": {
    "scrolled": true
   },
   "outputs": [
    {
     "name": "stdout",
     "output_type": "stream",
     "text": [
      "Wall time: 218 ms\n"
     ]
    }
   ],
   "source": [
    "%%time\n",
    "#assign parameters for authorization\n",
    "client_id = '122378e2606d48a7bb61507f17d7e3e9'\n",
    "client_secret = 'adeed656de8642cc895bb6e09e6b1a1e'\n",
    "username = 'jofussaures'\n",
    "scope = 'user-read-playback-state user-library-read user-modify-playback-state'\n",
    "redirect_uri = 'https://localhost:8080/callback/'\n",
    "\n",
    "token = util.prompt_for_user_token(username, scope, client_id, client_secret, redirect_uri)\n",
    "\n",
    "#initiates spotipy with token, authorized by user\n",
    "sp = spotipy.Spotify(auth = token)"
   ]
  },
  {
   "cell_type": "markdown",
   "metadata": {},
   "source": [
    "# If user did not do the algorithm\n",
    "### if user did do algorithm, scroll down"
   ]
  },
  {
   "cell_type": "code",
   "execution_count": null,
   "metadata": {},
   "outputs": [],
   "source": [
    "%%time\n",
    "uri = []\n",
    "number_of_tracks = 50\n",
    "\n",
    "#Gets user's Saved Tracks (Liked Songs)\n",
    "\n",
    "for i in range(0,10000,50):\n",
    "    all_tracks = sp.current_user_saved_tracks(number_of_tracks, i)\n",
    "    for item in all_tracks['items']:\n",
    "        track = item['track']\n",
    "        uri.append(track['uri'])"
   ]
  },
  {
   "cell_type": "code",
   "execution_count": null,
   "metadata": {},
   "outputs": [],
   "source": [
    "%%time\n",
    "tracks = []\n",
    "\n",
    "#Method to get audio features\n",
    "\n",
    "def getTrackFeatures(uri):\n",
    "    meta = sp.track(uri)\n",
    "    features = sp.audio_features(uri)\n",
    "    \n",
    "  # meta\n",
    "    name = meta['name']\n",
    "    artists = meta['album']['artists'][0]['name']\n",
    "    year = meta['album']['release_date'][:4]\n",
    "    trackUri = meta['uri']\n",
    "    \n",
    "  # features\n",
    "    acousticness = features[0]['acousticness']\n",
    "    danceability = features[0]['danceability']\n",
    "    energy = features[0]['energy']\n",
    "    instrumentalness = features[0]['instrumentalness']\n",
    "    key = features[0]['key']\n",
    "    liveness = features[0]['liveness']\n",
    "    mode = features[0]['mode']\n",
    "    loudness = features[0]['loudness']\n",
    "    speechiness = features[0]['speechiness']\n",
    "    tempo = features[0]['tempo']\n",
    "    valence = features[0]['valence']\n",
    "\n",
    "    track = [name, artists, year, acousticness, danceability, energy, instrumentalness, key, \n",
    "             liveness, mode, loudness, speechiness, tempo, valence, uri]\n",
    "    return track\n",
    "\n",
    "#Puts data into DataFrame\n",
    "for i in range(len(uri)):\n",
    "    time.sleep(.005)\n",
    "    track = getTrackFeatures(uri[i])\n",
    "    tracks.append(track)\n",
    "    \n",
    "df = pd.DataFrame(tracks, columns = ['name', 'artists', 'year', 'acousticness', 'danceability', 'energy', 'instrumentalness',\n",
    "                                     'key', 'liveness', 'mode','loudness', 'speechiness', 'tempo', 'valence', 'uri'])\n",
    "\n",
    "#Writes DataFrame to CSV file\n",
    "df.to_csv(\"spotify.csv\", sep = ',')"
   ]
  },
  {
   "cell_type": "code",
   "execution_count": null,
   "metadata": {},
   "outputs": [],
   "source": [
    "%%time\n",
    "#Import datasheet with pandas\n",
    "df = pd.read_csv('spotify.csv')"
   ]
  },
  {
   "cell_type": "code",
   "execution_count": null,
   "metadata": {},
   "outputs": [],
   "source": [
    "%%time\n",
    "#dfw = dataframe w/o song name, artists, and URI\n",
    "da = df['artists']\n",
    "dn = df['name']\n",
    "du = df['uri']\n",
    "dfw=df.drop(columns = ['name','artists', 'uri'])"
   ]
  },
  {
   "cell_type": "code",
   "execution_count": null,
   "metadata": {},
   "outputs": [],
   "source": [
    "%%time\n",
    "#features = the audio features used for algorithm\n",
    "features = dfw[['acousticness','danceability','energy','instrumentalness','loudness','speechiness','tempo','valence']]"
   ]
  },
  {
   "cell_type": "code",
   "execution_count": null,
   "metadata": {},
   "outputs": [],
   "source": [
    "%%time\n",
    "#Machine learning Algorithm\n",
    "km = KMeans(n_clusters = 4)\n",
    "km.fit(dfw)\n",
    "cluster = km.labels_\n",
    "\n",
    "newdf=dfw.assign(Cluster=cluster)\n",
    "grouped=newdf.groupby([\"Cluster\"])\n",
    "grouped.agg({'acousticness' : 'mean','danceability' : 'mean','energy' : 'mean','instrumentalness' : 'mean','loudness' : 'mean',\n",
    "             'speechiness' : 'mean','tempo' : 'mean','valence' : 'mean',})\n",
    "\n",
    "newdf_melt=pd.melt(newdf.reset_index(), id_vars =['Cluster'],value_vars=['acousticness','danceability','energy',\n",
    "                                                                         'instrumentalness','loudness','speechiness','tempo',\n",
    "                                                                         'valence'],var_name='Metric',value_name='Value')"
   ]
  },
  {
   "cell_type": "code",
   "execution_count": null,
   "metadata": {},
   "outputs": [],
   "source": [
    "%%time\n",
    "#Assigns clusters to a DataFrame\n",
    "c0 = newdf[newdf['Cluster']==0].reindex()\n",
    "c1 = newdf[newdf['Cluster']==1].reindex()\n",
    "c2 = newdf[newdf['Cluster']==2].reindex()\n",
    "c3 = newdf[newdf['Cluster']==3].reindex()"
   ]
  },
  {
   "cell_type": "code",
   "execution_count": null,
   "metadata": {},
   "outputs": [],
   "source": [
    "%%time\n",
    "#Adds song names, artists, and URIs back into clusters (at end of DataFrame)\n",
    "#c#a = cluster# w/ artist\n",
    "#c#an = cluster# w/ artist and name\n",
    "#c#f = cluster# w/ full data\n",
    "c0a = c0.assign(artists=df['artists'])\n",
    "c0an = c0a.assign(name=df['name'])\n",
    "c0f = c0an.assign(uri=df['uri'])\n",
    "\n",
    "c1a = c1.assign(artists=df['artists'])\n",
    "c1an = c1a.assign(name=df['name'])\n",
    "c1f = c1an.assign(uri=df['uri'])\n",
    "\n",
    "c2a = c2.assign(artists=df['artists'])\n",
    "c2an = c2a.assign(name=df['name'])\n",
    "c2f = c2an.assign(uri=df['uri'])\n",
    "\n",
    "c3a = c3.assign(artists=df['artists'])\n",
    "c3an = c3a.assign(name=df['name'])\n",
    "c3f = c3an.assign(uri=df['uri'])"
   ]
  },
  {
   "cell_type": "code",
   "execution_count": null,
   "metadata": {},
   "outputs": [],
   "source": [
    "%%time\n",
    "#Puts artists and name at beginning of DataFrame\n",
    "neworder = ['name','artists','year','acousticness','danceability','energy','instrumentalness','key','liveness',\n",
    "            'loudness','mode','speechiness','tempo','valence','Cluster', 'uri']\n",
    "c0f = c0f.reindex(columns = neworder)\n",
    "c1f = c1f.reindex(columns = neworder)\n",
    "c2f = c2f.reindex(columns = neworder)\n",
    "c3f = c3f.reindex(columns = neworder)"
   ]
  },
  {
   "cell_type": "code",
   "execution_count": null,
   "metadata": {
    "scrolled": true
   },
   "outputs": [],
   "source": [
    "%%time\n",
    "#Combines the four DataFrames into one\n",
    "fourframes = [c0f,c1f,c2f,c3f]\n",
    "allsongs = pd.concat(fourframes)\n",
    "allsongs\n",
    "allsongs.to_csv('spotify.csv')"
   ]
  },
  {
   "cell_type": "markdown",
   "metadata": {},
   "source": [
    "# Continue below"
   ]
  },
  {
   "cell_type": "markdown",
   "metadata": {},
   "source": [
    "# If the user already did the algorithm"
   ]
  },
  {
   "cell_type": "code",
   "execution_count": 4,
   "metadata": {},
   "outputs": [
    {
     "name": "stdout",
     "output_type": "stream",
     "text": [
      "Wall time: 176 ms\n"
     ]
    }
   ],
   "source": [
    "%%time\n",
    "#Gets song that is currently playing (CPT)\n",
    "current_song1 = sp.current_user_playing_track()\n",
    "\n",
    "if current_song1 is None:\n",
    "    current_song1 = 'spotify:track:4qMlF2uBW2PtGSEMHPcNnZ'\n",
    "    # Aminé - Riri\n",
    "    print('method still broken')\n",
    "\n",
    "#gets the track URI\n",
    "current_track_uri = current_song1['item']['uri']"
   ]
  },
  {
   "cell_type": "code",
   "execution_count": 7,
   "metadata": {},
   "outputs": [],
   "source": [
    "#Reads CSV file to DataFrame\n",
    "allsongs = pd.read_csv('spotify.csv')"
   ]
  },
  {
   "cell_type": "code",
   "execution_count": 8,
   "metadata": {},
   "outputs": [
    {
     "name": "stdout",
     "output_type": "stream",
     "text": [
      "Wall time: 3.98 ms\n"
     ]
    },
    {
     "data": {
      "text/html": [
       "<div>\n",
       "<style scoped>\n",
       "    .dataframe tbody tr th:only-of-type {\n",
       "        vertical-align: middle;\n",
       "    }\n",
       "\n",
       "    .dataframe tbody tr th {\n",
       "        vertical-align: top;\n",
       "    }\n",
       "\n",
       "    .dataframe thead th {\n",
       "        text-align: right;\n",
       "    }\n",
       "</style>\n",
       "<table border=\"1\" class=\"dataframe\">\n",
       "  <thead>\n",
       "    <tr style=\"text-align: right;\">\n",
       "      <th></th>\n",
       "      <th>Unnamed: 0</th>\n",
       "      <th>name</th>\n",
       "      <th>artists</th>\n",
       "      <th>year</th>\n",
       "      <th>acousticness</th>\n",
       "      <th>danceability</th>\n",
       "      <th>energy</th>\n",
       "      <th>instrumentalness</th>\n",
       "      <th>key</th>\n",
       "      <th>liveness</th>\n",
       "      <th>loudness</th>\n",
       "      <th>mode</th>\n",
       "      <th>speechiness</th>\n",
       "      <th>tempo</th>\n",
       "      <th>valence</th>\n",
       "      <th>Cluster</th>\n",
       "      <th>uri</th>\n",
       "    </tr>\n",
       "  </thead>\n",
       "  <tbody>\n",
       "    <tr>\n",
       "      <th>934</th>\n",
       "      <td>183</td>\n",
       "      <td>Empire State Of Mind</td>\n",
       "      <td>JAY-Z</td>\n",
       "      <td>2009</td>\n",
       "      <td>0.0295</td>\n",
       "      <td>0.491</td>\n",
       "      <td>0.956</td>\n",
       "      <td>0.0</td>\n",
       "      <td>11</td>\n",
       "      <td>0.46</td>\n",
       "      <td>-1.538</td>\n",
       "      <td>1</td>\n",
       "      <td>0.392</td>\n",
       "      <td>173.585</td>\n",
       "      <td>0.811</td>\n",
       "      <td>3</td>\n",
       "      <td>spotify:track:2igwFfvr1OAGX9SKDCPBwO</td>\n",
       "    </tr>\n",
       "  </tbody>\n",
       "</table>\n",
       "</div>"
      ],
      "text/plain": [
       "     Unnamed: 0                  name artists  year  acousticness  \\\n",
       "934         183  Empire State Of Mind   JAY-Z  2009        0.0295   \n",
       "\n",
       "     danceability  energy  instrumentalness  key  liveness  loudness  mode  \\\n",
       "934         0.491   0.956               0.0   11      0.46    -1.538     1   \n",
       "\n",
       "     speechiness    tempo  valence  Cluster  \\\n",
       "934        0.392  173.585    0.811        3   \n",
       "\n",
       "                                      uri  \n",
       "934  spotify:track:2igwFfvr1OAGX9SKDCPBwO  "
      ]
     },
     "execution_count": 8,
     "metadata": {},
     "output_type": "execute_result"
    }
   ],
   "source": [
    "%%time\n",
    "#Finds CPT in allsongs DataFrame\n",
    "playing_track = allsongs.loc[allsongs['uri'] == current_track_uri]\n",
    "playing_track"
   ]
  },
  {
   "cell_type": "code",
   "execution_count": 9,
   "metadata": {},
   "outputs": [
    {
     "name": "stdout",
     "output_type": "stream",
     "text": [
      "Wall time: 1.03 ms\n"
     ]
    }
   ],
   "source": [
    "%%time\n",
    "#Gets CPT cluster #\n",
    "track_cluster = playing_track.iloc[0]['Cluster']\n",
    "\n",
    "#Gets CPT year of release\n",
    "playing_track_year = playing_track.iloc[0]['year']"
   ]
  },
  {
   "cell_type": "code",
   "execution_count": 10,
   "metadata": {},
   "outputs": [
    {
     "name": "stdout",
     "output_type": "stream",
     "text": [
      "Wall time: 73.4 ms\n"
     ]
    }
   ],
   "source": [
    "%%time\n",
    "#Creates list of songs that match the CPT cluster and is within +-5 years apart\n",
    "add_to_queue = allsongs[(playing_track_year >= (allsongs['year'] - 5)) & (playing_track_year <= (allsongs['year'] + 5))\n",
    "        & (track_cluster == allsongs['Cluster'])].sample(10)\n",
    "\n",
    "#Gets URI of each track and adds to list\n",
    "to_queue = add_to_queue[\"uri\"].tolist()"
   ]
  },
  {
   "cell_type": "code",
   "execution_count": 11,
   "metadata": {},
   "outputs": [
    {
     "name": "stdout",
     "output_type": "stream",
     "text": [
      "Wall time: 2.49 s\n"
     ]
    }
   ],
   "source": [
    "%%time\n",
    "#Adds songs to queue on Spotify\n",
    "for track in to_queue:\n",
    "    sp.add_to_queue(track)"
   ]
  }
 ],
 "metadata": {
  "kernelspec": {
   "display_name": "Python 3",
   "language": "python",
   "name": "python3"
  },
  "language_info": {
   "codemirror_mode": {
    "name": "ipython",
    "version": 3
   },
   "file_extension": ".py",
   "mimetype": "text/x-python",
   "name": "python",
   "nbconvert_exporter": "python",
   "pygments_lexer": "ipython3",
   "version": "3.7.6"
  }
 },
 "nbformat": 4,
 "nbformat_minor": 4
}
