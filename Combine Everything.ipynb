{
 "cells": [
  {
   "cell_type": "code",
   "execution_count": null,
   "metadata": {},
   "outputs": [],
   "source": [
    "%%time\n",
    "#Import Libraries\n",
    "import json\n",
    "import spotipy\n",
    "import spotipy.util as util\n",
    "import pandas as pd\n",
    "import numpy as np\n",
    "import time\n",
    "import random\n",
    "import csv\n",
    "from sklearn.model_selection import train_test_split\n",
    "from sklearn.cluster import KMeans\n",
    "from spotipy.oauth2 import SpotifyClientCredentials"
   ]
  },
  {
   "cell_type": "code",
   "execution_count": null,
   "metadata": {},
   "outputs": [],
   "source": [
    "%%time\n",
    "#assign parameters for authorization\n",
    "client_id = ''\n",
    "client_secret = ''\n",
    "username = ''\n",
    "scope = 'user-read-playback-state user-library-read user-modify-playback-state'\n",
    "redirect_uri = 'https://localhost:8080/callback/'\n",
    "\n",
    "token = util.prompt_for_user_token(username, scope, client_id, client_secret, redirect_uri)\n",
    "\n",
    "#initiates spotipy with token, authorized by user\n",
    "sp = spotipy.Spotify(auth = token)"
   ]
  },
  {
   "cell_type": "code",
   "execution_count": null,
   "metadata": {},
   "outputs": [],
   "source": [
    "%%time\n",
    "#checks to see what Spotify account gave authorization\n",
    "current_user = sp.current_user()"
   ]
  },
  {
   "cell_type": "code",
   "execution_count": null,
   "metadata": {},
   "outputs": [],
   "source": [
    "%%time\n",
    "#Gets song that is currently playing\n",
    "current_song1 = sp.current_user_playing_track()"
   ]
  },
  {
   "cell_type": "code",
   "execution_count": null,
   "metadata": {},
   "outputs": [],
   "source": [
    "%%time\n",
    "#gets the track URI\n",
    "current_track_uri = current_song1['item']['uri']"
   ]
  },
  {
   "cell_type": "code",
   "execution_count": null,
   "metadata": {},
   "outputs": [],
   "source": [
    "%%time\n",
    "uri = []\n",
    "number_of_tracks = 50\n",
    "for i in range(0,10000,50):\n",
    "    all_tracks = sp.current_user_saved_tracks(number_of_tracks, i)\n",
    "    for item in all_tracks['items']:\n",
    "        track = item['track']\n",
    "        uri.append(track['uri'])"
   ]
  },
  {
   "cell_type": "code",
   "execution_count": null,
   "metadata": {},
   "outputs": [],
   "source": [
    "%%time\n",
    "tracks = []\n",
    "def getTrackFeatures(uri):\n",
    "    meta = sp.track(uri)\n",
    "    features = sp.audio_features(uri)\n",
    "\n",
    "  # meta\n",
    "    name = meta['name']\n",
    "    artists = meta['album']['artists'][0]['name']\n",
    "    year = meta['album']['release_date'][:4]\n",
    "    trackUri = meta['uri']\n",
    "\n",
    "\n",
    "  # features\n",
    "    acousticness = features[0]['acousticness']\n",
    "    danceability = features[0]['danceability']\n",
    "    energy = features[0]['energy']\n",
    "    instrumentalness = features[0]['instrumentalness']\n",
    "    key = features[0]['key']\n",
    "    liveness = features[0]['liveness']\n",
    "    mode = features[0]['mode']\n",
    "    loudness = features[0]['loudness']\n",
    "    speechiness = features[0]['speechiness']\n",
    "    tempo = features[0]['tempo']\n",
    "    valence = features[0]['valence']\n",
    "\n",
    "    track = [name, artists, year, acousticness, danceability, energy, instrumentalness, key, \n",
    "             liveness, mode, loudness, speechiness, tempo, valence, uri]\n",
    "    return track\n",
    "\n",
    "for i in range(len(uri)):\n",
    "    time.sleep(.005)\n",
    "    track = getTrackFeatures(uri[i])\n",
    "    tracks.append(track)\n",
    "    \n",
    "df = pd.DataFrame(tracks, columns = ['name', 'artists', 'year', 'acousticness', 'danceability', 'energy', 'instrumentalness',\n",
    "                                     'key', 'liveness', 'mode','loudness', 'speechiness', 'tempo', 'valence', 'uri'])\n",
    "df.to_csv(\"spotify.csv\", sep = ',')"
   ]
  },
  {
   "cell_type": "code",
   "execution_count": null,
   "metadata": {},
   "outputs": [],
   "source": [
    "%%time\n",
    "#Import datasheet with pandas\n",
    "#rdata = rawdata\n",
    "df = pd.read_csv('spotify.csv')"
   ]
  },
  {
   "cell_type": "code",
   "execution_count": null,
   "metadata": {},
   "outputs": [],
   "source": [
    "%%time\n",
    "#dfw = dataframe w/o name and artists\n",
    "da = df['artists']\n",
    "dn = df['name']\n",
    "du = df['uri']\n",
    "dfw=df.drop(columns = ['name','artists', 'uri'])"
   ]
  },
  {
   "cell_type": "code",
   "execution_count": null,
   "metadata": {},
   "outputs": [],
   "source": [
    "%%time\n",
    "features = dfw[['acousticness','danceability','energy','instrumentalness','loudness','speechiness','tempo','valence']]"
   ]
  },
  {
   "cell_type": "code",
   "execution_count": null,
   "metadata": {},
   "outputs": [],
   "source": [
    "%%time\n",
    "km = KMeans(n_clusters = 4)\n",
    "km.fit(dfw)\n",
    "cluster = km.labels_"
   ]
  },
  {
   "cell_type": "code",
   "execution_count": null,
   "metadata": {},
   "outputs": [],
   "source": [
    "%%time\n",
    "newdf=dfw.assign(Cluster=cluster)\n",
    "grouped=newdf.groupby([\"Cluster\"])\n",
    "grouped.agg({'acousticness' : 'mean','danceability' : 'mean','energy' : 'mean','instrumentalness' : 'mean','loudness' : 'mean',\n",
    "             'speechiness' : 'mean','tempo' : 'mean','valence' : 'mean',})"
   ]
  },
  {
   "cell_type": "code",
   "execution_count": null,
   "metadata": {},
   "outputs": [],
   "source": [
    "%%time\n",
    "newdf_melt=pd.melt(newdf.reset_index(), id_vars =['Cluster'],value_vars=['acousticness','danceability','energy',\n",
    "                                                                         'instrumentalness','loudness','speechiness','tempo',\n",
    "                                                                         'valence'],var_name='Metric',value_name='Value')"
   ]
  },
  {
   "cell_type": "code",
   "execution_count": null,
   "metadata": {},
   "outputs": [],
   "source": [
    "%%time\n",
    "c0 = newdf[newdf['Cluster']==0].reindex()\n",
    "c1 = newdf[newdf['Cluster']==1].reindex()\n",
    "c2 = newdf[newdf['Cluster']==2].reindex()\n",
    "c3 = newdf[newdf['Cluster']==3].reindex()"
   ]
  },
  {
   "cell_type": "code",
   "execution_count": null,
   "metadata": {},
   "outputs": [],
   "source": [
    "%%time\n",
    "#add artists and song name back into clusters (at end of DataFrame)\n",
    "#c#a = cluster# w/ artist\n",
    "#c#f = cluster# w/ artist and name\n",
    "#c#f = cluster# w/ full data\n",
    "c0a = c0.assign(artists=df['artists'])\n",
    "c0an = c0a.assign(name=df['name'])\n",
    "c0f = c0an.assign(uri=df['uri'])\n",
    "\n",
    "c1a = c1.assign(artists=df['artists'])\n",
    "c1an = c1a.assign(name=df['name'])\n",
    "c1f = c1an.assign(uri=df['uri'])\n",
    "\n",
    "c2a = c2.assign(artists=df['artists'])\n",
    "c2an = c2a.assign(name=df['name'])\n",
    "c2f = c2an.assign(uri=df['uri'])\n",
    "\n",
    "c3a = c3.assign(artists=df['artists'])\n",
    "c3an = c3a.assign(name=df['name'])\n",
    "c3f = c3an.assign(uri=df['uri'])"
   ]
  },
  {
   "cell_type": "code",
   "execution_count": null,
   "metadata": {},
   "outputs": [],
   "source": [
    "%%time\n",
    "#puts artists and name at beginning of DataFrame\n",
    "neworder = ['name','artists','year','acousticness','danceability','energy','instrumentalness','key','liveness',\n",
    "            'loudness','mode','speechiness','tempo','valence','Cluster', 'uri']\n",
    "c0f = c0f.reindex(columns = neworder)\n",
    "c1f = c1f.reindex(columns = neworder)\n",
    "c2f = c2f.reindex(columns = neworder)\n",
    "c3f = c3f.reindex(columns = neworder)"
   ]
  },
  {
   "cell_type": "code",
   "execution_count": null,
   "metadata": {},
   "outputs": [],
   "source": [
    "%%time\n",
    "fourframes = [c0f,c1f,c2f,c3f]\n",
    "allsongs = pd.concat(fourframes)\n",
    "allsongs"
   ]
  },
  {
   "cell_type": "code",
   "execution_count": null,
   "metadata": {
    "scrolled": false
   },
   "outputs": [],
   "source": [
    "%%time\n",
    "playing_track = allsongs.loc[allsongs['uri'] == current_track_uri]\n",
    "playing_track"
   ]
  },
  {
   "cell_type": "code",
   "execution_count": null,
   "metadata": {
    "scrolled": false
   },
   "outputs": [],
   "source": [
    "%%time\n",
    "track_cluster = playing_track.iloc[0]['Cluster']\n",
    "track_cluster"
   ]
  },
  {
   "cell_type": "code",
   "execution_count": null,
   "metadata": {},
   "outputs": [],
   "source": [
    "playing_track_year = playing_track.iloc[0]['year']\n",
    "playing_track_year"
   ]
  },
  {
   "cell_type": "code",
   "execution_count": null,
   "metadata": {},
   "outputs": [],
   "source": [
    "add_to_queue = allsongs[(playing_track_year >= (allsongs['year'] - 5)) & (playing_track_year <= (allsongs['year'] + 5))\n",
    "        & (track_cluster == allsongs['Cluster'])].sample(10)\n",
    "add_to_queue"
   ]
  },
  {
   "cell_type": "code",
   "execution_count": null,
   "metadata": {},
   "outputs": [],
   "source": [
    "to_queue = add_to_queue[\"uri\"].tolist()\n",
    "\n",
    "for track in to_queue:\n",
    "    sp.add_to_queue(track)"
   ]
  }
 ],
 "metadata": {
  "kernelspec": {
   "display_name": "Python 3",
   "language": "python",
   "name": "python3"
  },
  "language_info": {
   "codemirror_mode": {
    "name": "ipython",
    "version": 3
   },
   "file_extension": ".py",
   "mimetype": "text/x-python",
   "name": "python",
   "nbconvert_exporter": "python",
   "pygments_lexer": "ipython3",
   "version": "3.7.6"
  }
 },
 "nbformat": 4,
 "nbformat_minor": 4
}
