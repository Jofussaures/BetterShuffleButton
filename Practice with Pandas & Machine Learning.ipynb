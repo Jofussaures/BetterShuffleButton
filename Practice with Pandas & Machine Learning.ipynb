{
 "cells": [
  {
   "cell_type": "code",
   "execution_count": null,
   "metadata": {
    "scrolled": false
   },
   "outputs": [],
   "source": [
    "#Import libraries\n",
    "import numpy as np\n",
    "\n",
    "import pandas as pd\n",
    "\n",
    "%matplotlib inline\n",
    "import matplotlib as mpl\n",
    "import matplotlib.pyplot as plt\n",
    "\n",
    "from sklearn.model_selection import train_test_split\n",
    "from sklearn.cluster import KMeans"
   ]
  },
  {
   "cell_type": "code",
   "execution_count": null,
   "metadata": {
    "scrolled": false
   },
   "outputs": [],
   "source": [
    "#Import datasheet with pandas\n",
    "#rdata = rawdata\n",
    "rdata = pd.read_csv('data1.csv')\n",
    "\n",
    "#Display data - raw and unfiltered\n",
    "rdata"
   ]
  },
  {
   "cell_type": "code",
   "execution_count": null,
   "metadata": {
    "scrolled": true
   },
   "outputs": [],
   "source": [
    "#Drops unneccesary columns to save space \n",
    "#data = droppeddata\n",
    "ddata = rdata.drop(columns=['duration_ms','explicit','id','release_date'])\n",
    "\n",
    "#Rids of ('' [] \"\") in artist column\n",
    "#da is originally a 'Series', use .to_frame() to make into DataFrame\n",
    "da = ddata.artists.str.strip('[\"]\\'').to_frame()\n",
    "#da = dataframeartist\n",
    "da"
   ]
  },
  {
   "cell_type": "code",
   "execution_count": null,
   "metadata": {},
   "outputs": [],
   "source": [
    "#must put cleaned artists column into a new DataFrame\n",
    "df = ddata.assign(artists=da['artists'])\n",
    "#df = dataframe - will be using from now on\n",
    "df"
   ]
  },
  {
   "cell_type": "code",
   "execution_count": null,
   "metadata": {},
   "outputs": [],
   "source": [
    "#Display data type for all columns\n",
    "df.info()"
   ]
  },
  {
   "cell_type": "code",
   "execution_count": null,
   "metadata": {
    "scrolled": true
   },
   "outputs": [],
   "source": [
    "#Display some statistics of the data\n",
    "#There are no null entries (count is same in all columns)\n",
    "df.describe()"
   ]
  },
  {
   "cell_type": "code",
   "execution_count": null,
   "metadata": {
    "scrolled": true
   },
   "outputs": [],
   "source": [
    "#dfw = dataframe w/o name and artists\n",
    "dfw=df.drop(columns = ['name','artists'])"
   ]
  },
  {
   "cell_type": "code",
   "execution_count": null,
   "metadata": {},
   "outputs": [],
   "source": [
    "#Randomly selects a song in the training sample and retrieves its features\n",
    "#rsong = random song, fsong = featuresong\n",
    "rsong = df.sample(7)\n",
    "fsong = rsong[['acousticness','danceability','energy','instrumentalness','loudness','speechiness','tempo','valence']]\n",
    "fsong"
   ]
  },
  {
   "cell_type": "code",
   "execution_count": null,
   "metadata": {},
   "outputs": [],
   "source": [
    "features = dfw[['acousticness','danceability','energy','instrumentalness','loudness','speechiness','tempo','valence']]"
   ]
  },
  {
   "cell_type": "code",
   "execution_count": null,
   "metadata": {},
   "outputs": [],
   "source": [
    "#Gets specific song by searching for name of song and artists.\n",
    "#Some searches have duplicate records because of re-recordings in different years\n",
    "#Such as name = Virgen, artists = Adolescent'ts Qrquesta\n",
    "song= df.loc[(df['name'] == \"Do I Wanna Know?\") & (df['artists'] == 'Arctic Monkeys')]\n",
    "songf = song[['artists','name','acousticness','danceability','energy','instrumentalness','loudness','speechiness','tempo','valence']]\n",
    "songf"
   ]
  },
  {
   "cell_type": "code",
   "execution_count": null,
   "metadata": {},
   "outputs": [],
   "source": [
    "#Using the elbow method to find the optimal clustering amount\n",
    "distortions = []\n",
    "K = range(1,10)\n",
    "for k in K:\n",
    "    kmeanModel = KMeans(n_clusters=k)\n",
    "    kmeanModel.fit(dfw)\n",
    "    distortions.append(kmeanModel.inertia_)"
   ]
  },
  {
   "cell_type": "code",
   "execution_count": null,
   "metadata": {},
   "outputs": [],
   "source": [
    "plt.figure(figsize=(16,8))\n",
    "plt.plot(K, distortions)\n",
    "plt.xlabel('k')\n",
    "plt.ylabel('Distortion')\n",
    "plt.title('Optimal k')\n",
    "plt.show()\n",
    "#4"
   ]
  },
  {
   "cell_type": "code",
   "execution_count": null,
   "metadata": {},
   "outputs": [],
   "source": [
    "km = KMeans(n_clusters = 4)\n",
    "km.fit(dfw)\n",
    "cluster = km.labels_"
   ]
  },
  {
   "cell_type": "code",
   "execution_count": null,
   "metadata": {
    "scrolled": true
   },
   "outputs": [],
   "source": [
    "newdf=dfw.assign(Cluster=cluster)\n",
    "grouped=newdf.groupby([\"Cluster\"])\n",
    "grouped.agg({'acousticness' : 'mean','danceability' : 'mean','energy' : 'mean','instrumentalness' : 'mean','loudness' : 'mean',\n",
    "             'speechiness' : 'mean','tempo' : 'mean','valence' : 'mean',})"
   ]
  },
  {
   "cell_type": "code",
   "execution_count": null,
   "metadata": {},
   "outputs": [],
   "source": [
    "newdf"
   ]
  },
  {
   "cell_type": "code",
   "execution_count": null,
   "metadata": {},
   "outputs": [],
   "source": [
    "newdf_melt=pd.melt(newdf.reset_index(), id_vars =['Cluster'],value_vars=['acousticness','danceability','energy','instrumentalness','loudness','speechiness','tempo','valence'],var_name='Metric',value_name='Value')"
   ]
  },
  {
   "cell_type": "code",
   "execution_count": null,
   "metadata": {
    "scrolled": false
   },
   "outputs": [],
   "source": [
    "#sorts clustered DataFrame by year\n",
    "result = newdf.sort_values(by='year')\n",
    "result"
   ]
  },
  {
   "cell_type": "code",
   "execution_count": null,
   "metadata": {},
   "outputs": [],
   "source": [
    "c0 = newdf[newdf['Cluster']==0].reindex()\n",
    "c1 = newdf[newdf['Cluster']==1].reindex()\n",
    "c2 = newdf[newdf['Cluster']==2].reindex()\n",
    "c3 = newdf[newdf['Cluster']==3].reindex()"
   ]
  },
  {
   "cell_type": "code",
   "execution_count": null,
   "metadata": {
    "scrolled": true
   },
   "outputs": [],
   "source": [
    "c0"
   ]
  },
  {
   "cell_type": "code",
   "execution_count": null,
   "metadata": {},
   "outputs": [],
   "source": [
    "#add artists and song name back into clusters (at end of DataFrame)\n",
    "#c#a = cluster1 w/ artist\n",
    "#c#f = cluster1 full data\n",
    "c0a = c0.assign(artists=da['artists'])\n",
    "c0f = c0a.assign(name=df['name'])\n",
    "\n",
    "c1a = c1.assign(artists=da['artists'])\n",
    "c1f = c1a.assign(name=df['name'])\n",
    "\n",
    "c2a = c2.assign(artists=da['artists'])\n",
    "c2f = c2a.assign(name=df['name'])\n",
    "\n",
    "c3a = c3.assign(artists=da['artists'])\n",
    "c3f = c3a.assign(name=df['name'])"
   ]
  },
  {
   "cell_type": "code",
   "execution_count": null,
   "metadata": {},
   "outputs": [],
   "source": [
    "#puts artists and name at beginning of DataFrame\n",
    "neworder = ['name','artists','year','acousticness','danceability','energy','instrumentalness','key','liveness',\n",
    "            'loudness','mode','popularity','speechiness','tempo','valence','Cluster']\n",
    "c0f = c0f.reindex(columns = neworder)\n",
    "c1f = c1f.reindex(columns = neworder)\n",
    "c2f = c2f.reindex(columns = neworder)\n",
    "c3f = c3f.reindex(columns = neworder)"
   ]
  },
  {
   "cell_type": "code",
   "execution_count": null,
   "metadata": {},
   "outputs": [],
   "source": [
    "#look at rebuilt DataFrame\n",
    "c0f.sort_values('year').tail()"
   ]
  },
  {
   "cell_type": "code",
   "execution_count": null,
   "metadata": {},
   "outputs": [],
   "source": [
    "#searches song by index in specific cluster by index and assigns index to variable\n",
    "#songbi = song by index with row\n",
    "#sname = song index\n",
    "songbi = c0f.loc[26433]\n",
    "sname = songbi.name\n",
    "sname"
   ]
  },
  {
   "cell_type": "code",
   "execution_count": null,
   "metadata": {
    "scrolled": true
   },
   "outputs": [],
   "source": [
    "#searches index variable in original DataFrame\n",
    "#ss = searched song\n",
    "ssong = df.iloc[sname]\n",
    "ssong"
   ]
  },
  {
   "cell_type": "code",
   "execution_count": null,
   "metadata": {
    "scrolled": false
   },
   "outputs": [],
   "source": [
    "#searches for 10 songs in same cluster within 5 years of song searched\n",
    "c0f[(ssong.year >= (c0f['year'] - 5)) & (ssong.year <= (c0f['year'] + 5))].sample(10)"
   ]
  },
  {
   "cell_type": "code",
   "execution_count": null,
   "metadata": {},
   "outputs": [],
   "source": []
  },
  {
   "cell_type": "code",
   "execution_count": null,
   "metadata": {
    "scrolled": true
   },
   "outputs": [],
   "source": [
    "#Gets index of specific song by name\n",
    "#Searches song in DataFrame before clustering\n",
    "#songn = song name\n",
    "songn = ssong['name']\n",
    "year = ssong['year']\n",
    "idx = df[df['name'] == 'Shake It Off'].index# & (df['year'] == year))].index\n",
    "df.loc[idx]"
   ]
  },
  {
   "cell_type": "code",
   "execution_count": null,
   "metadata": {},
   "outputs": [],
   "source": [
    "#combines all clustered DataFrames into one DataFrame\n",
    "fourframes = [c0f,c1f,c2f,c3f]\n",
    "allsongs = pd.concat(fourframes)\n",
    "allsongs"
   ]
  },
  {
   "cell_type": "code",
   "execution_count": null,
   "metadata": {
    "scrolled": true
   },
   "outputs": [],
   "source": [
    "#checks to see if DataFrames matches\n",
    "allsongs.loc[sname]"
   ]
  },
  {
   "cell_type": "code",
   "execution_count": null,
   "metadata": {},
   "outputs": [],
   "source": [
    "#add cluster column to rdata DataFrame\n",
    "fullrdata = rdata.assign(cluster=allsongs['Cluster'])\n",
    "fullrdata"
   ]
  }
 ],
 "metadata": {
  "kernelspec": {
   "display_name": "Python 3",
   "language": "python",
   "name": "python3"
  },
  "language_info": {
   "codemirror_mode": {
    "name": "ipython",
    "version": 3
   },
   "file_extension": ".py",
   "mimetype": "text/x-python",
   "name": "python",
   "nbconvert_exporter": "python",
   "pygments_lexer": "ipython3",
   "version": "3.7.6"
  }
 },
 "nbformat": 4,
 "nbformat_minor": 4
}
